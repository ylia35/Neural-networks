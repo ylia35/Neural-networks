{
  "nbformat": 4,
  "nbformat_minor": 0,
  "metadata": {
    "colab": {
      "provenance": []
    },
    "kernelspec": {
      "name": "python3",
      "display_name": "Python 3"
    },
    "language_info": {
      "name": "python"
    }
  },
  "cells": [
    {
      "cell_type": "code",
      "source": [
        "import numpy as np\n",
        "import matplotlib.pyplot as plt"
      ],
      "metadata": {
        "id": "IqTGaHRIaj3C"
      },
      "execution_count": 50,
      "outputs": []
    },
    {
      "cell_type": "markdown",
      "source": [
        "## Задача 2.1"
      ],
      "metadata": {
        "id": "S3wUBNYnZxKH"
      }
    },
    {
      "cell_type": "markdown",
      "source": [
        "[1 балл] Сгенерируйте набор признаков  X  — двумерный массив размера  (1000×1) , состоящий из случайных вещественных чисел, равномерно распределённых по промежутку  [−1,2) . Затем получите набор меток  y  — одномерный массив размера  1000 , — по формуле:\n",
        "y=3x−8x2+6x3.\n",
        "Подсказка: может помочь numpy.random.uniform\n",
        "\n",
        "Полностью векторизуйте решение, то есть избегайте явного использования циклов."
      ],
      "metadata": {
        "id": "S7RTGbkfaHOb"
      }
    },
    {
      "cell_type": "code",
      "execution_count": 57,
      "metadata": {
        "id": "Mdif3nkWZv2y"
      },
      "outputs": [],
      "source": [
        "# Задаём размер выборки\n",
        "n_samples = 1000\n",
        "\n",
        "# Генерируем набор признаков X: 1000 случайных чисел из [-1, 2)\n",
        "X = np.random.uniform(low=-1, high=2, size=(n_samples, 1))\n",
        "\n",
        "# Вычисляем метки y по формуле: y = 3x - 8x^2 + 6x^3\n",
        "y = 3 * X - 8 * X**2 + 6 * X**3\n",
        "\n",
        "# Преобразуем y в одномерный массив (1000,)\n",
        "y = y.ravel()"
      ]
    },
    {
      "cell_type": "code",
      "source": [
        "print(X[:10])"
      ],
      "metadata": {
        "colab": {
          "base_uri": "https://localhost:8080/"
        },
        "id": "te5lX0Vrax2U",
        "outputId": "4731869d-c362-4f83-a3e4-3d8948c5ddfa"
      },
      "execution_count": 52,
      "outputs": [
        {
          "output_type": "stream",
          "name": "stdout",
          "text": [
            "[[ 1.81949637]\n",
            " [ 0.88312416]\n",
            " [ 0.00471684]\n",
            " [-0.58218378]\n",
            " [ 1.38207557]\n",
            " [ 0.86021827]\n",
            " [ 0.60038328]\n",
            " [ 1.68167775]\n",
            " [ 1.36579163]\n",
            " [-0.54497536]]\n"
          ]
        }
      ]
    },
    {
      "cell_type": "code",
      "source": [
        "print(y[:10])"
      ],
      "metadata": {
        "colab": {
          "base_uri": "https://localhost:8080/"
        },
        "id": "jUTvZhAFa3f9",
        "outputId": "ebe1f6c5-48e1-493a-b73c-34fa5c251dc7"
      },
      "execution_count": 53,
      "outputs": [
        {
          "output_type": "stream",
          "name": "stdout",
          "text": [
            "[ 1.51153411e+01  5.42641300e-01  1.39731726e-02 -5.64200008e+00\n",
            "  4.70485157e+00  4.80093550e-01  2.15954419e-01  1.09558250e+01\n",
            "  4.46065861e+00 -4.98205126e+00]\n"
          ]
        }
      ]
    },
    {
      "cell_type": "markdown",
      "source": [
        "Разделите  X,y  случайным образом на два фрагмента в соотношении  100÷900 . Удалите из первого фрагмента пары, в которых  x  лежит за пределами отрезка  [0,1] . Первый фрагмент мы далее будем называть тренировочным, второй — валидационным.\n",
        "\n",
        "Подсказка: может помочь numpy.random.choice\n"
      ],
      "metadata": {
        "id": "sVVWzC-Gb65W"
      }
    },
    {
      "cell_type": "code",
      "source": [
        "def train_val_split(\n",
        "      X:np.ndarray,\n",
        "      y:np.ndarray,\n",
        "      train_fraction:float=0.1,\n",
        "      train_size:int=None,\n",
        "      random_state:int=42,\n",
        "    )->tuple[np.ndarray, np.ndarray, np.ndarray, np.ndarray]:\n",
        "\n",
        "    \"\"\"\n",
        "    X : numpy.ndarray (n_samples, n_features) - массив признаков\n",
        "    y : numpy.ndarray (n_samples) - массив меток\n",
        "\n",
        "    train_fraction : optional, float - доля объектов, которую\n",
        "    нужно отправить в тренировочную выборку\n",
        "    аргумент игнорируется, если задан train_size\n",
        "\n",
        "    train_size : optional, int - число объектов, которое\n",
        "    нужно отправить в тренировочную выборку\n",
        "\n",
        "    random_state : optional, int - аргумент,\n",
        "    передаваемый генераторам случайных чисел\n",
        "    (используется для воспроизводимости результатов)\n",
        "    \"\"\"\n",
        "\n",
        "    if not isinstance(X, np.ndarray) or not isinstance(y, np.ndarray):\n",
        "        raise TypeError(\"X и y должны быть numpy.ndarray\")\n",
        "\n",
        "    if X.size == 0 or y.size == 0:\n",
        "        raise ValueError(\"X и y не должны быть пустыми массивами\")\n",
        "\n",
        "\n",
        "\n",
        "    np.random.seed(random_state)\n",
        "    n_samples = X.shape[0]\n",
        "\n",
        "    if train_size is None:\n",
        "        train_size = int(n_samples * train_fraction)\n",
        "\n",
        "    # Отбирает признаки случайно часть в train, остальное в валидацию\n",
        "    train_indices = np.random.choice(n_samples, size=train_size, replace=False)\n",
        "    val_indices = np.setdiff1d(np.arange(n_samples), train_indices)\n",
        "\n",
        "    # Получаем тренировочный фрагмент\n",
        "    X_train = X[train_indices]\n",
        "    y_train = y[train_indices]\n",
        "\n",
        "    # Делим данные по маске в промежутке от 0 до 1\n",
        "    mask = (X_train >= 0) & (X_train <= 1)\n",
        "    mask = mask.ravel()\n",
        "    # Фильтрация данных по маске\n",
        "    X_train = X_train[mask]\n",
        "    y_train = y_train[mask].reshape(-1, 1)\n",
        "\n",
        "    # Добавляем гауссов шум к тренировочным меткам\n",
        "    y_train = y_train + np.random.normal(loc=0, scale=0.1, size=y_train.shape)\n",
        "\n",
        "    # Получаем валидационный фрагмент\n",
        "    X_val = X[val_indices]\n",
        "    y_val = y[val_indices].reshape(-1, 1)\n",
        "\n",
        "    return X_train, y_train, X_val, y_val"
      ],
      "metadata": {
        "id": "-saUkNz3Wocu"
      },
      "execution_count": 58,
      "outputs": []
    },
    {
      "cell_type": "code",
      "source": [
        "X_train, y_train, X_val, y_val = train_val_split(X, y, train_fraction=0.1, train_size=100, random_state=42)\n",
        "\n",
        "print(\"Тренировочный фрагмент (X_train):\", X_train.shape)\n",
        "print(\"Тренировочный фрагмент (y_train):\", y_train.shape)\n",
        "print(\"Валидационный фрагмент (X_val):\", X_val.shape)\n",
        "print(\"Валидационный фрагмент (y_val):\", y_val.shape)"
      ],
      "metadata": {
        "id": "v5VGbTtBdhTr",
        "colab": {
          "base_uri": "https://localhost:8080/"
        },
        "outputId": "ca10c96a-fd26-471c-a759-5d7e9ad91672"
      },
      "execution_count": 59,
      "outputs": [
        {
          "output_type": "stream",
          "name": "stdout",
          "text": [
            "Тренировочный фрагмент (X_train): (37, 1)\n",
            "Тренировочный фрагмент (y_train): (37, 1)\n",
            "Валидационный фрагмент (X_val): (900, 1)\n",
            "Валидационный фрагмент (y_val): (900, 1)\n"
          ]
        }
      ]
    },
    {
      "cell_type": "code",
      "source": [
        "def plot_dataset(X_train, y_train, X_val, y_val):\n",
        "    plt.figure(figsize=(10, 6))\n",
        "\n",
        "    plt.scatter(X_val, y_val, color='blue', label='Валидационный фрагмент')\n",
        "\n",
        "    # Тренировочные данные\n",
        "    plt.scatter(X_train, y_train, color='plum', label='Тренировочный фрагмент')\n",
        "\n",
        "    # Валидационные данные\n",
        "    plt.xlabel('X')\n",
        "    plt.ylabel('y')\n",
        "    plt.title('Визуализация датасета')\n",
        "    plt.xlim(-1, 2)\n",
        "    plt.ylim(-20, 20)\n",
        "    plt.grid(True)\n",
        "    plt.legend()\n",
        "    plt.show()\n",
        "\n",
        "plot_dataset(X_train, y_train, X_val, y_val)"
      ],
      "metadata": {
        "colab": {
          "base_uri": "https://localhost:8080/",
          "height": 564
        },
        "id": "fGYmWyCaYdMp",
        "outputId": "a517107a-af79-4c5f-91ce-d0f90ac5e617"
      },
      "execution_count": 56,
      "outputs": [
        {
          "output_type": "display_data",
          "data": {
            "text/plain": [
              "<Figure size 1000x600 with 1 Axes>"
            ],
            "image/png": "[encoded data removed]"
          },
          "metadata": {}
        }
      ]
    },
    {
      "cell_type": "markdown",
      "source": [
        "## 2.4"
      ],
      "metadata": {
        "id": "IqPztewmvpyh"
      }
    }
  ]
}
